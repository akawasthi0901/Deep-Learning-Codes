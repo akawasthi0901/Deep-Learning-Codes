{
 "cells": [
  {
   "cell_type": "code",
   "execution_count": 1,
   "id": "8abbd882",
   "metadata": {},
   "outputs": [],
   "source": [
    "import numpy as np\n",
    "from tensorflow.keras.preprocessing.text import one_hot\n",
    "from tensorflow.keras.preprocessing.sequence import pad_sequences\n",
    "from tensorflow.keras.models import Sequential\n",
    "from tensorflow.keras.layers import Dense\n",
    "from tensorflow.keras.layers import Flatten\n",
    "from tensorflow.keras.layers import Embedding"
   ]
  },
  {
   "cell_type": "code",
   "execution_count": 2,
   "id": "33c97f4f",
   "metadata": {},
   "outputs": [],
   "source": [
    "reviews = ['nice food',\n",
    "        'amazing restaurant',\n",
    "        'too good',\n",
    "        'just loved it!',\n",
    "        'will go again',\n",
    "        'horrible food',\n",
    "        'never go there',\n",
    "        'poor service',\n",
    "        'poor quality',\n",
    "        'needs improvement']\n",
    "\n",
    "sentiment = np.array([1,1,1,1,1,0,0,0,0,0])"
   ]
  },
  {
   "cell_type": "code",
   "execution_count": 3,
   "id": "9e9c2670",
   "metadata": {},
   "outputs": [
    {
     "data": {
      "text/plain": [
       "[15, 17]"
      ]
     },
     "execution_count": 3,
     "metadata": {},
     "output_type": "execute_result"
    }
   ],
   "source": [
    "one_hot(\"amazing restaurant\" ,50)#it gives a number between 1 and 30 ,  30 is the max limit"
   ]
  },
  {
   "cell_type": "code",
   "execution_count": 4,
   "id": "f48136d7",
   "metadata": {},
   "outputs": [
    {
     "data": {
      "text/plain": [
       "[[35, 21],\n",
       " [15, 17],\n",
       " [6, 1],\n",
       " [12, 34, 30],\n",
       " [9, 19, 49],\n",
       " [9, 21],\n",
       " [48, 19, 2],\n",
       " [29, 39],\n",
       " [29, 38],\n",
       " [34, 1]]"
      ]
     },
     "execution_count": 4,
     "metadata": {},
     "output_type": "execute_result"
    }
   ],
   "source": [
    "vocab_size=50\n",
    "encoded_reviews=[one_hot(d,vocab_size) for d in reviews]\n",
    "encoded_reviews"
   ]
  },
  {
   "cell_type": "code",
   "execution_count": 5,
   "id": "22e6b482",
   "metadata": {},
   "outputs": [],
   "source": [
    "#padding starts to equalise all statemnts"
   ]
  },
  {
   "cell_type": "code",
   "execution_count": 6,
   "id": "48ecc8b4",
   "metadata": {},
   "outputs": [
    {
     "data": {
      "text/plain": [
       "array([[35, 21,  0],\n",
       "       [15, 17,  0],\n",
       "       [ 6,  1,  0],\n",
       "       [12, 34, 30],\n",
       "       [ 9, 19, 49],\n",
       "       [ 9, 21,  0],\n",
       "       [48, 19,  2],\n",
       "       [29, 39,  0],\n",
       "       [29, 38,  0],\n",
       "       [34,  1,  0]])"
      ]
     },
     "execution_count": 6,
     "metadata": {},
     "output_type": "execute_result"
    }
   ],
   "source": [
    "max_length=3\n",
    "padded_reviews=pad_sequences(encoded_reviews,maxlen=max_length,padding='post')\n",
    "padded_reviews"
   ]
  },
  {
   "cell_type": "code",
   "execution_count": 7,
   "id": "586a4693",
   "metadata": {},
   "outputs": [],
   "source": [
    "embedded_vector_size=4\n",
    "\n",
    "model=Sequential()\n",
    "model.add(Embedding(vocab_size , embedded_vector_size , input_length=max_length , name='embedding'))\n",
    "model.add(Flatten())\n",
    "model.add(Dense(1, activation='sigmoid'))"
   ]
  },
  {
   "cell_type": "code",
   "execution_count": 8,
   "id": "bcad8f38",
   "metadata": {},
   "outputs": [],
   "source": [
    "X=padded_reviews\n",
    "y=sentiment\n"
   ]
  },
  {
   "cell_type": "code",
   "execution_count": 9,
   "id": "2ecb24ce",
   "metadata": {},
   "outputs": [
    {
     "name": "stdout",
     "output_type": "stream",
     "text": [
      "Model: \"sequential\"\n",
      "_________________________________________________________________\n",
      "Layer (type)                 Output Shape              Param #   \n",
      "=================================================================\n",
      "embedding (Embedding)        (None, 3, 4)              200       \n",
      "_________________________________________________________________\n",
      "flatten (Flatten)            (None, 12)                0         \n",
      "_________________________________________________________________\n",
      "dense (Dense)                (None, 1)                 13        \n",
      "=================================================================\n",
      "Total params: 213\n",
      "Trainable params: 213\n",
      "Non-trainable params: 0\n",
      "_________________________________________________________________\n"
     ]
    }
   ],
   "source": [
    "model.compile(optimizer='adam' , loss='binary_crossentropy', metrics=['accuracy'])\n",
    "model.summary()"
   ]
  },
  {
   "cell_type": "code",
   "execution_count": 10,
   "id": "aa06a6e3",
   "metadata": {},
   "outputs": [
    {
     "data": {
      "text/plain": [
       "<tensorflow.python.keras.callbacks.History at 0x1f54613be50>"
      ]
     },
     "execution_count": 10,
     "metadata": {},
     "output_type": "execute_result"
    }
   ],
   "source": [
    "model.fit(X,y,epochs=50,verbose=0)"
   ]
  },
  {
   "cell_type": "code",
   "execution_count": 11,
   "id": "cad4bfd1",
   "metadata": {},
   "outputs": [
    {
     "name": "stdout",
     "output_type": "stream",
     "text": [
      "1/1 [==============================] - 0s 363ms/step - loss: 0.6258 - accuracy: 1.0000\n"
     ]
    },
    {
     "data": {
      "text/plain": [
       "1.0"
      ]
     },
     "execution_count": 11,
     "metadata": {},
     "output_type": "execute_result"
    }
   ],
   "source": [
    "loss,accuracy = model.evaluate(X,y)\n",
    "accuracy"
   ]
  },
  {
   "cell_type": "code",
   "execution_count": 12,
   "id": "f4a0cab6",
   "metadata": {},
   "outputs": [
    {
     "data": {
      "text/plain": [
       "array([[ 0.03699536,  0.03803018,  0.04442824,  0.02342423],\n",
       "       [ 0.01375315, -0.05218694, -0.03913816,  0.02873817],\n",
       "       [ 0.04298624,  0.09336773,  0.02985806,  0.03772104],\n",
       "       [ 0.00529671,  0.02635104, -0.00656886, -0.00744047],\n",
       "       [ 0.0108852 ,  0.00226178, -0.00102573, -0.04879139],\n",
       "       [-0.04051112, -0.01484763,  0.02632276, -0.03920506],\n",
       "       [ 0.09225312,  0.0929146 ,  0.06811535, -0.01445159],\n",
       "       [ 0.00899699, -0.03986025,  0.01024244, -0.00784419],\n",
       "       [ 0.02999203, -0.02800391,  0.0049663 , -0.00359771],\n",
       "       [-0.05986139, -0.01321665, -0.04739831,  0.00728079],\n",
       "       [-0.01536723,  0.03503558, -0.0002959 , -0.00180782],\n",
       "       [-0.03486741, -0.02956721,  0.02276433, -0.04599511],\n",
       "       [ 0.00098042,  0.06326135,  0.0493856 , -0.08015639],\n",
       "       [ 0.04931302, -0.01558537,  0.04027894, -0.03391226],\n",
       "       [-0.02034395, -0.00383887, -0.03021753,  0.04523119],\n",
       "       [ 0.0502929 ,  0.05039904,  0.01514604, -0.01873624],\n",
       "       [ 0.01720972,  0.01863928,  0.01926387, -0.01342865],\n",
       "       [-0.09879796,  0.01315467, -0.03503601,  0.04370692],\n",
       "       [-0.04680027,  0.0359125 , -0.00345423,  0.0123078 ],\n",
       "       [-0.00856559,  0.00259998, -0.02636807,  0.08082975],\n",
       "       [ 0.04375061, -0.02205387, -0.02622254,  0.0093235 ],\n",
       "       [ 0.03289321,  0.04154008, -0.01682806, -0.03522258],\n",
       "       [ 0.02123772, -0.01453692,  0.0267097 , -0.04390116],\n",
       "       [ 0.03253715, -0.00765185, -0.03375334,  0.00533314],\n",
       "       [ 0.03920097, -0.01616383,  0.04617803, -0.03143641],\n",
       "       [ 0.02037833, -0.00731488,  0.03513378, -0.01004474],\n",
       "       [-0.03542311, -0.03997388,  0.04439971,  0.00957836],\n",
       "       [-0.01753439, -0.0022323 , -0.01986028, -0.0303257 ],\n",
       "       [ 0.01463051,  0.04352451, -0.03096448, -0.00430807],\n",
       "       [-0.0730494 , -0.01421789, -0.03988188,  0.09122062],\n",
       "       [-0.03205049, -0.02825434, -0.03535502, -0.09361313],\n",
       "       [ 0.00816028,  0.02285675,  0.04352799, -0.00795355],\n",
       "       [ 0.00792917, -0.01643746,  0.01828802, -0.04813492],\n",
       "       [-0.00906733, -0.04335073,  0.03083939, -0.0032206 ],\n",
       "       [-0.03136429, -0.09556521, -0.08915755,  0.03833654],\n",
       "       [ 0.02900215,  0.09114373,  0.00171999, -0.0525174 ],\n",
       "       [ 0.03095374,  0.03156332,  0.00341374, -0.03677025],\n",
       "       [-0.02613365, -0.04397361,  0.02409208,  0.01227576],\n",
       "       [ 0.01290033, -0.02403196,  0.08440285, -0.03110716],\n",
       "       [ 0.0449316 , -0.07126338,  0.07179348, -0.01115448],\n",
       "       [-0.01158143,  0.02480359,  0.00438917,  0.04343252],\n",
       "       [ 0.03809876, -0.04343114,  0.00273106,  0.01106734],\n",
       "       [ 0.04018922, -0.00594779,  0.04334256,  0.00058284],\n",
       "       [ 0.00047757,  0.0290927 ,  0.00983899,  0.02805409],\n",
       "       [-0.00456463,  0.04584464,  0.01278834, -0.01229066],\n",
       "       [ 0.04563543, -0.00559664,  0.03868193, -0.00248458],\n",
       "       [-0.0284691 ,  0.00764101, -0.02206054, -0.00526155],\n",
       "       [ 0.00374826, -0.00619207, -0.0058726 , -0.03258879],\n",
       "       [-0.02766823, -0.0996446 , -0.07942459,  0.00140295],\n",
       "       [-0.04382828, -0.10622547, -0.08411871, -0.08353771]],\n",
       "      dtype=float32)"
      ]
     },
     "execution_count": 12,
     "metadata": {},
     "output_type": "execute_result"
    }
   ],
   "source": [
    "model.get_layer('embedding').get_weights()[0]"
   ]
  },
  {
   "cell_type": "code",
   "execution_count": 13,
   "id": "cc8801b5",
   "metadata": {},
   "outputs": [
    {
     "data": {
      "text/plain": [
       "50"
      ]
     },
     "execution_count": 13,
     "metadata": {},
     "output_type": "execute_result"
    }
   ],
   "source": [
    "weights=model.get_layer('embedding').get_weights()[0]\n",
    "len(weights)"
   ]
  },
  {
   "cell_type": "code",
   "execution_count": 14,
   "id": "b8cfa35c",
   "metadata": {},
   "outputs": [
    {
     "data": {
      "text/plain": [
       "array([ 0.09225312,  0.0929146 ,  0.06811535, -0.01445159], dtype=float32)"
      ]
     },
     "execution_count": 14,
     "metadata": {},
     "output_type": "execute_result"
    }
   ],
   "source": [
    "weights[6]"
   ]
  },
  {
   "cell_type": "code",
   "execution_count": 15,
   "id": "c22b7e51",
   "metadata": {},
   "outputs": [
    {
     "data": {
      "text/plain": [
       "array([-0.03136429, -0.09556521, -0.08915755,  0.03833654], dtype=float32)"
      ]
     },
     "execution_count": 15,
     "metadata": {},
     "output_type": "execute_result"
    }
   ],
   "source": [
    "weights[34]"
   ]
  },
  {
   "cell_type": "code",
   "execution_count": 16,
   "id": "89b841ae",
   "metadata": {},
   "outputs": [
    {
     "data": {
      "text/plain": [
       "array([ 0.00529671,  0.02635104, -0.00656886, -0.00744047], dtype=float32)"
      ]
     },
     "execution_count": 16,
     "metadata": {},
     "output_type": "execute_result"
    }
   ],
   "source": [
    "weights[3]"
   ]
  }
 ],
 "metadata": {
  "kernelspec": {
   "display_name": "Python 3",
   "language": "python",
   "name": "python3"
  },
  "language_info": {
   "codemirror_mode": {
    "name": "ipython",
    "version": 3
   },
   "file_extension": ".py",
   "mimetype": "text/x-python",
   "name": "python",
   "nbconvert_exporter": "python",
   "pygments_lexer": "ipython3",
   "version": "3.8.8"
  }
 },
 "nbformat": 4,
 "nbformat_minor": 5
}
